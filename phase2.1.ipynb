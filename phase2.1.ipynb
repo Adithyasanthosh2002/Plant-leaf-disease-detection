{
 "cells": [
  {
   "cell_type": "code",
   "execution_count": 3,
   "id": "a11504cf-e899-4964-831f-d36db645f84d",
   "metadata": {},
   "outputs": [
    {
     "name": "stderr",
     "output_type": "stream",
     "text": [
      "WARNING:absl:Compiled the loaded model, but the compiled metrics have yet to be built. `model.compile_metrics` will be empty until you train or evaluate the model.\n"
     ]
    },
    {
     "name": "stdout",
     "output_type": "stream",
     "text": [
      "Found 11077 images belonging to 39 classes.\n",
      "\u001b[1m347/347\u001b[0m \u001b[32m━━━━━━━━━━━━━━━━━━━━\u001b[0m\u001b[37m\u001b[0m \u001b[1m1259s\u001b[0m 4s/step - accuracy: 0.2679 - loss: 3.3250\n",
      "Validation Accuracy: 31.07%\n",
      "Validation Loss: 3.0348\n",
      "\u001b[1m347/347\u001b[0m \u001b[32m━━━━━━━━━━━━━━━━━━━━\u001b[0m\u001b[37m\u001b[0m \u001b[1m1252s\u001b[0m 4s/step\n"
     ]
    }
   ],
   "source": [
    "from tensorflow.keras.models import load_model\n",
    "from tensorflow.keras.preprocessing.image import ImageDataGenerator\n",
    "import numpy as np\n",
    "import matplotlib.pyplot as plt\n",
    "\n",
    "# 1. Load your pretrained model\n",
    "model = load_model(\"plant_disease_model.h5\")\n",
    "\n",
    "# You no longer need to preprocess manually if using RGB mode\n",
    "datagen = ImageDataGenerator(\n",
    "    rescale=1./255,\n",
    "    validation_split=0.2\n",
    ")\n",
    "\n",
    "# 2. Load edge images as RGB directly\n",
    "val_generator = datagen.flow_from_directory(\n",
    "    'processed_edges_dataset',\n",
    "    target_size=(224, 224),\n",
    "    color_mode='rgb',  # 👈 Changed this!\n",
    "    batch_size=32,\n",
    "    class_mode='categorical',\n",
    "    subset='validation',\n",
    "    shuffle=False\n",
    ")\n",
    "\n",
    "# 3. Evaluate the model\n",
    "loss, accuracy = model.evaluate(val_generator)\n",
    "print(f\"Validation Accuracy: {accuracy*100:.2f}%\")\n",
    "print(f\"Validation Loss: {loss:.4f}\")\n",
    "\n",
    "# 4. Optional: Predict and map results\n",
    "predictions = model.predict(val_generator)\n",
    "predicted_classes = np.argmax(predictions, axis=1)\n",
    "true_classes = val_generator.classes\n",
    "class_labels = list(val_generator.class_indices.keys())\n"
   ]
  },
  {
   "cell_type": "code",
   "execution_count": null,
   "id": "9f961b78-22a0-42af-a751-2485fd2e2656",
   "metadata": {},
   "outputs": [],
   "source": []
  }
 ],
 "metadata": {
  "kernelspec": {
   "display_name": "Python (myenv)",
   "language": "python",
   "name": "myenv"
  },
  "language_info": {
   "codemirror_mode": {
    "name": "ipython",
    "version": 3
   },
   "file_extension": ".py",
   "mimetype": "text/x-python",
   "name": "python",
   "nbconvert_exporter": "python",
   "pygments_lexer": "ipython3",
   "version": "3.12.7"
  }
 },
 "nbformat": 4,
 "nbformat_minor": 5
}
